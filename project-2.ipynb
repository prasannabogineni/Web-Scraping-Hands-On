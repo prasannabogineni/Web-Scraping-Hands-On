{
 "cells": [
  {
   "cell_type": "markdown",
   "id": "ea7f9656",
   "metadata": {},
   "source": [
    "What is Web Scraping ?\n",
    "\n",
    "Web Scraping (also termed as Scraping, Data Extraction, Data Harvesting, etc.) is a technique used to extract data from the websites. Sometimes web scraping can be very useful wherein we can get the data that we are looking for straight from the web, but sometimes it a bad way to do it, because it’s like stealing the precious data from the website without their permission, but limit your scraping process to once or twice so that this can avoid you from falling in trouble."
   ]
  },
  {
   "cell_type": "markdown",
   "id": "ebc7a696",
   "metadata": {},
   "source": [
    "The most useful libraries required for web scraping are:\n",
    "   1. Beautiful Soup.\n",
    "\n",
    "   2. Requests."
   ]
  },
  {
   "cell_type": "raw",
   "id": "12b40278",
   "metadata": {},
   "source": [
    "These are the steps that we would be following throughout this tutorial:\n",
    "Importing the required libraries.\n",
    "\n",
    "Getting the URL and storing it in a variable.\n",
    "\n",
    "Making a request to the website using the requests library.\n",
    "\n",
    "Using the Beautiful Soup library to get the HTML (raw) data from the website.\n",
    "\n",
    "Using soup.findAll method to get the respected tag that we are looking for.\n",
    "\n",
    "Removing all the HTML tags and converting it to a plain text format."
   ]
  },
  {
   "cell_type": "markdown",
   "id": "b8877561",
   "metadata": {},
   "source": [
    "# Step 1: Importing the required libraries"
   ]
  },
  {
   "cell_type": "code",
   "execution_count": 1,
   "id": "cb6dcb30",
   "metadata": {},
   "outputs": [],
   "source": [
    "import requests\n",
    "from bs4 import BeautifulSoup"
   ]
  },
  {
   "cell_type": "markdown",
   "id": "5b9640c4",
   "metadata": {},
   "source": [
    "# Step 2: Getting the URL and storing it in a variable"
   ]
  },
  {
   "cell_type": "markdown",
   "id": "20c43259",
   "metadata": {},
   "source": [
    "Let us store the URL of the professor in the variable named “url”. The URL of the website can be found here: “Rate My Professor”."
   ]
  },
  {
   "cell_type": "code",
   "execution_count": 2,
   "id": "5877d9c7",
   "metadata": {},
   "outputs": [],
   "source": [
    "url = 'https://www.ratemyprofessors.com/ShowRatings.jsp?tid=941931'"
   ]
  },
  {
   "cell_type": "markdown",
   "id": "8c86d5bb",
   "metadata": {},
   "source": [
    "# Step 3: Making a request to the website using the requests library."
   ]
  },
  {
   "cell_type": "markdown",
   "id": "e86d2ca9",
   "metadata": {},
   "source": [
    "Here we use the requests library by passing “url” as a parameter, be careful don’t run this multiple times. If you get like Response 200 then its success, if you get something else then there is something wrong with maybe the code or your browser I don’t know."
   ]
  },
  {
   "cell_type": "code",
   "execution_count": 3,
   "id": "83a885a9",
   "metadata": {},
   "outputs": [],
   "source": [
    "page = requests.get(url)"
   ]
  },
  {
   "cell_type": "code",
   "execution_count": 4,
   "id": "972a0e91",
   "metadata": {},
   "outputs": [
    {
     "data": {
      "text/plain": [
       "<Response [200]>"
      ]
     },
     "execution_count": 4,
     "metadata": {},
     "output_type": "execute_result"
    }
   ],
   "source": [
    "page"
   ]
  },
  {
   "cell_type": "markdown",
   "id": "686b4f13",
   "metadata": {},
   "source": [
    "# Step 4: Using the Beautiful Soup library to get the HTML (raw) data from the website."
   ]
  },
  {
   "cell_type": "markdown",
   "id": "dbbf89d7",
   "metadata": {},
   "source": [
    "Here we use the BeautifulSoup by passing the page.text as a parameter and using the HTML parser. You can try to print the soup, but printing the soup doesn’t give you the answer, rather it contains huge chunks of HTML data, so I decided not to show it here."
   ]
  },
  {
   "cell_type": "code",
   "execution_count": 5,
   "id": "f20b1837",
   "metadata": {},
   "outputs": [],
   "source": [
    "soup = BeautifulSoup(page.text, \"html.parser\")"
   ]
  },
  {
   "cell_type": "markdown",
   "id": "cbb0bf29",
   "metadata": {},
   "source": [
    "# Step 5: Using soup.findAll method to get the respected tag that we are looking for."
   ]
  },
  {
   "cell_type": "markdown",
   "id": "7da15474",
   "metadata": {},
   "source": [
    "Here is the place where you shall add the tags that you are looking for, to get the tag name all you have to do is to right click on the respected tag or click Ctrl-Shift-I on the tag in the webpage, then a page with selected tag will open for you to your right-hand side as shown below:\n",
    "\n",
    "You can then copy the HTML tag and class if any, and then place it inside the soup.findAll method. In this case, the HTML tag is “span” and class is “tag-box-choosetags”"
   ]
  },
  {
   "cell_type": "code",
   "execution_count": 6,
   "id": "4e7aaa5d",
   "metadata": {},
   "outputs": [
    {
     "data": {
      "text/plain": [
       "[<span class=\"Tag-bs9vf4-0 hHOVKF\">Tough grader</span>,\n",
       " <span class=\"Tag-bs9vf4-0 hHOVKF\">Lots of homework</span>,\n",
       " <span class=\"Tag-bs9vf4-0 hHOVKF\">Skip class? You won't pass.</span>,\n",
       " <span class=\"Tag-bs9vf4-0 hHOVKF\">Beware of pop quizzes</span>,\n",
       " <span class=\"Tag-bs9vf4-0 hHOVKF\">Caring</span>,\n",
       " <span class=\"Tag-bs9vf4-0 hHOVKF\">Graded by few things</span>,\n",
       " <span class=\"Tag-bs9vf4-0 hHOVKF\">Tough grader</span>,\n",
       " <span class=\"Tag-bs9vf4-0 hHOVKF\">Skip class? You won't pass.</span>,\n",
       " <span class=\"Tag-bs9vf4-0 hHOVKF\">Test heavy</span>,\n",
       " <span class=\"Tag-bs9vf4-0 hHOVKF\">Tough grader</span>,\n",
       " <span class=\"Tag-bs9vf4-0 hHOVKF\">Respected</span>,\n",
       " <span class=\"Tag-bs9vf4-0 hHOVKF\">Skip class? You won't pass.</span>,\n",
       " <span class=\"Tag-bs9vf4-0 hHOVKF\">Caring</span>,\n",
       " <span class=\"Tag-bs9vf4-0 hHOVKF\">Respected</span>,\n",
       " <span class=\"Tag-bs9vf4-0 hHOVKF\">Hilarious</span>,\n",
       " <span class=\"Tag-bs9vf4-0 hHOVKF\">Amazing lectures</span>,\n",
       " <span class=\"Tag-bs9vf4-0 hHOVKF\">Respected</span>,\n",
       " <span class=\"Tag-bs9vf4-0 hHOVKF\">TEST HEAVY</span>,\n",
       " <span class=\"Tag-bs9vf4-0 hHOVKF\">Amazing lectures</span>,\n",
       " <span class=\"Tag-bs9vf4-0 hHOVKF\">Inspirational</span>,\n",
       " <span class=\"Tag-bs9vf4-0 hHOVKF\">Hilarious</span>,\n",
       " <span class=\"Tag-bs9vf4-0 hHOVKF\">Caring</span>,\n",
       " <span class=\"Tag-bs9vf4-0 hHOVKF\">Tough Grader</span>,\n",
       " <span class=\"Tag-bs9vf4-0 hHOVKF\">Skip class? You won't pass.</span>,\n",
       " <span class=\"Tag-bs9vf4-0 hHOVKF\">LOTS OF HOMEWORK</span>,\n",
       " <span class=\"Tag-bs9vf4-0 hHOVKF\">Tough Grader</span>,\n",
       " <span class=\"Tag-bs9vf4-0 hHOVKF\">Skip class? You won't pass.</span>,\n",
       " <span class=\"Tag-bs9vf4-0 hHOVKF\">LOTS OF HOMEWORK</span>,\n",
       " <span class=\"Tag-bs9vf4-0 hHOVKF\">Respected</span>,\n",
       " <span class=\"Tag-bs9vf4-0 hHOVKF\">Tough Grader</span>,\n",
       " <span class=\"Tag-bs9vf4-0 hHOVKF\">Skip class? You won't pass.</span>,\n",
       " <span class=\"Tag-bs9vf4-0 hHOVKF\">BEWARE OF POP QUIZZES</span>,\n",
       " <span class=\"Tag-bs9vf4-0 hHOVKF\">LOTS OF HOMEWORK</span>,\n",
       " <span class=\"Tag-bs9vf4-0 hHOVKF\">GROUP PROJECTS</span>,\n",
       " <span class=\"Tag-bs9vf4-0 hHOVKF\">Tough Grader</span>,\n",
       " <span class=\"Tag-bs9vf4-0 hHOVKF\">Skip class? You won't pass.</span>,\n",
       " <span class=\"Tag-bs9vf4-0 hHOVKF\">Caring</span>,\n",
       " <span class=\"Tag-bs9vf4-0 hHOVKF\">GRADED BY FEW THINGS</span>,\n",
       " <span class=\"Tag-bs9vf4-0 hHOVKF\">GROUP PROJECTS</span>,\n",
       " <span class=\"Tag-bs9vf4-0 hHOVKF\">LECTURE HEAVY</span>,\n",
       " <span class=\"Tag-bs9vf4-0 hHOVKF\">Skip class? You won't pass.</span>,\n",
       " <span class=\"Tag-bs9vf4-0 hHOVKF\">Caring</span>]"
      ]
     },
     "execution_count": 6,
     "metadata": {},
     "output_type": "execute_result"
    }
   ],
   "source": [
    "proftags = soup.findAll(\"span\", {\"class\": \"Tag-bs9vf4-0\" })\n",
    "proftags"
   ]
  },
  {
   "cell_type": "markdown",
   "id": "a1e56c46",
   "metadata": {},
   "source": [
    "# Step 6: Removing all the HTML tags and converting it to a plain text format."
   ]
  },
  {
   "cell_type": "markdown",
   "id": "0d8a5444",
   "metadata": {},
   "source": [
    "Here we remove all the HTML tags and convert it to a text format, this can be done with the help of get_text method placed inside a for loop. This converts the HTML into the text format."
   ]
  },
  {
   "cell_type": "code",
   "execution_count": 7,
   "id": "7bceb7dd",
   "metadata": {},
   "outputs": [
    {
     "name": "stdout",
     "output_type": "stream",
     "text": [
      "Tough grader\n",
      "Lots of homework\n",
      "Skip class? You won't pass.\n",
      "Beware of pop quizzes\n",
      "Caring\n",
      "Graded by few things\n",
      "Tough grader\n",
      "Skip class? You won't pass.\n",
      "Test heavy\n",
      "Tough grader\n",
      "Respected\n",
      "Skip class? You won't pass.\n",
      "Caring\n",
      "Respected\n",
      "Hilarious\n",
      "Amazing lectures\n",
      "Respected\n",
      "TEST HEAVY\n",
      "Amazing lectures\n",
      "Inspirational\n",
      "Hilarious\n",
      "Caring\n",
      "Tough Grader\n",
      "Skip class? You won't pass.\n",
      "LOTS OF HOMEWORK\n",
      "Tough Grader\n",
      "Skip class? You won't pass.\n",
      "LOTS OF HOMEWORK\n",
      "Respected\n",
      "Tough Grader\n",
      "Skip class? You won't pass.\n",
      "BEWARE OF POP QUIZZES\n",
      "LOTS OF HOMEWORK\n",
      "GROUP PROJECTS\n",
      "Tough Grader\n",
      "Skip class? You won't pass.\n",
      "Caring\n",
      "GRADED BY FEW THINGS\n",
      "GROUP PROJECTS\n",
      "LECTURE HEAVY\n",
      "Skip class? You won't pass.\n",
      "Caring\n"
     ]
    }
   ],
   "source": [
    "for mytag in proftags:\n",
    "    print(mytag.get_text())"
   ]
  },
  {
   "cell_type": "markdown",
   "id": "0add8d6d",
   "metadata": {},
   "source": [
    "Hence we got the above information that we were looking for. We got all the tags of the professor. This is how we scrape the data from the internet by using Requests and Beautiful Soup libraries."
   ]
  },
  {
   "cell_type": "code",
   "execution_count": null,
   "id": "20730ba0",
   "metadata": {},
   "outputs": [],
   "source": []
  },
  {
   "cell_type": "code",
   "execution_count": null,
   "id": "91d5db06",
   "metadata": {},
   "outputs": [],
   "source": []
  }
 ],
 "metadata": {
  "kernelspec": {
   "display_name": "Python 3 (ipykernel)",
   "language": "python",
   "name": "python3"
  },
  "language_info": {
   "codemirror_mode": {
    "name": "ipython",
    "version": 3
   },
   "file_extension": ".py",
   "mimetype": "text/x-python",
   "name": "python",
   "nbconvert_exporter": "python",
   "pygments_lexer": "ipython3",
   "version": "3.8.10"
  }
 },
 "nbformat": 4,
 "nbformat_minor": 5
}
